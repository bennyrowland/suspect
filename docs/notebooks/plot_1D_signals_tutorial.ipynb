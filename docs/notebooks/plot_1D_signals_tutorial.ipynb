{
 "cells": [
  {
   "cell_type": "markdown",
   "metadata": {},
   "source": [
    "# Plotting 1D MRS data using Suspect's `plot_1D_signals` module\n",
    "\n",
    "Suspect's `plot_1D_signals` module provides a set of functions for plotting MRS data. It is built on matplotlib's library of plotting functions, and automatically applies formatting and styling parameters that are useful for visualizing 1D MRS signals. This notebook provides an overview and examples of the basic functionality provided by the module, including: \n",
    "\n",
    "1. Importing data\n",
    "2. Plotting 1D MR spectra\n",
    "  * Modifying default parameters\n",
    "  * Multi-line plots\n",
    "  * Creating subplots  \n",
    "2. Plotting raw MR spectra\n",
    "3. Using `plot_1D_signals` for batch processing\n"
   ]
  },
  {
   "cell_type": "markdown",
   "metadata": {},
   "source": [
    "## Importing data\n",
    "\n",
    "Start by importing the modules we will need:"
   ]
  },
  {
   "cell_type": "code",
   "execution_count": 1,
   "metadata": {
    "collapsed": false
   },
   "outputs": [],
   "source": [
    "import suspect\n",
    "import numpy as np\n",
    "import matplotlib.pyplot as plt\n",
    "import matplotlib\n",
    "%matplotlib inline"
   ]
  },
  {
   "cell_type": "markdown",
   "metadata": {},
   "source": [
    "To simplify the syntax for future calls to the funcions in the `plot_1D_signals` module, import them to the namespace:"
   ]
  },
  {
   "cell_type": "code",
   "execution_count": 2,
   "metadata": {
    "collapsed": false
   },
   "outputs": [],
   "source": [
    "import suspect.viz.plot_1D_signals as plot_sigs"
   ]
  },
  {
   "cell_type": "markdown",
   "metadata": {},
   "source": [
    "Load some data. For this example, we will use a file in the rda format that contains a single 1D complex FID signal. "
   ]
  },
  {
   "cell_type": "code",
   "execution_count": 3,
   "metadata": {
    "collapsed": false
   },
   "outputs": [
    {
     "ename": "FileNotFoundError",
     "evalue": "[Errno 2] No such file or directory: 'SVS_30.rda'",
     "output_type": "error",
     "traceback": [
      "\u001b[1;31m---------------------------------------------------------------------------\u001b[0m",
      "\u001b[1;31mFileNotFoundError\u001b[0m                         Traceback (most recent call last)",
      "\u001b[1;32m<ipython-input-3-9cb1dbf62859>\u001b[0m in \u001b[0;36m<module>\u001b[1;34m()\u001b[0m\n\u001b[1;32m----> 1\u001b[1;33m \u001b[0mdata\u001b[0m \u001b[1;33m=\u001b[0m \u001b[0msuspect\u001b[0m\u001b[1;33m.\u001b[0m\u001b[0mio\u001b[0m\u001b[1;33m.\u001b[0m\u001b[0mload_rda\u001b[0m\u001b[1;33m(\u001b[0m\u001b[1;34m'SVS_30.rda'\u001b[0m\u001b[1;33m)\u001b[0m\u001b[1;33m\u001b[0m\u001b[0m\n\u001b[0m",
      "\u001b[1;32mC:\\Users\\ljm2331\\Documents\\python\\mrs\\openmrslab\\suspect\\suspect\\io\\rda.py\u001b[0m in \u001b[0;36mload_rda\u001b[1;34m(filename)\u001b[0m\n\u001b[0;32m     35\u001b[0m \u001b[1;32mdef\u001b[0m \u001b[0mload_rda\u001b[0m\u001b[1;33m(\u001b[0m\u001b[0mfilename\u001b[0m\u001b[1;33m)\u001b[0m\u001b[1;33m:\u001b[0m\u001b[1;33m\u001b[0m\u001b[0m\n\u001b[0;32m     36\u001b[0m     \u001b[0mheader_dict\u001b[0m \u001b[1;33m=\u001b[0m \u001b[1;33m{\u001b[0m\u001b[1;33m}\u001b[0m\u001b[1;33m\u001b[0m\u001b[0m\n\u001b[1;32m---> 37\u001b[1;33m     \u001b[1;32mwith\u001b[0m \u001b[0mopen\u001b[0m\u001b[1;33m(\u001b[0m\u001b[0mfilename\u001b[0m\u001b[1;33m,\u001b[0m \u001b[1;34m'rb'\u001b[0m\u001b[1;33m)\u001b[0m \u001b[1;32mas\u001b[0m \u001b[0mfin\u001b[0m\u001b[1;33m:\u001b[0m\u001b[1;33m\u001b[0m\u001b[0m\n\u001b[0m\u001b[0;32m     38\u001b[0m         \u001b[0mheader_line\u001b[0m \u001b[1;33m=\u001b[0m \u001b[0mfin\u001b[0m\u001b[1;33m.\u001b[0m\u001b[0mreadline\u001b[0m\u001b[1;33m(\u001b[0m\u001b[1;33m)\u001b[0m\u001b[1;33m.\u001b[0m\u001b[0mstrip\u001b[0m\u001b[1;33m(\u001b[0m\u001b[1;33m)\u001b[0m\u001b[1;33m\u001b[0m\u001b[0m\n\u001b[0;32m     39\u001b[0m         \u001b[1;32mif\u001b[0m \u001b[0mheader_line\u001b[0m \u001b[1;33m!=\u001b[0m \u001b[1;34mb\">>> Begin of header <<<\"\u001b[0m\u001b[1;33m:\u001b[0m\u001b[1;33m\u001b[0m\u001b[0m\n",
      "\u001b[1;31mFileNotFoundError\u001b[0m: [Errno 2] No such file or directory: 'SVS_30.rda'"
     ]
    }
   ],
   "source": [
    "data = suspect.io.load_rda('SVS_30.rda')"
   ]
  },
  {
   "cell_type": "markdown",
   "metadata": {},
   "source": [
    "`data` is an instance of the `MRSData` class, which is subclass of a numpy `array` that adds MRS-specific properties and methods.\n",
    "\n",
    "The axes we need for plotting the signal are attributes of the `data` object. These are:\n",
    "\n",
    "`data.time_axis` (seconds)\n",
    "\n",
    "`data.frequency_axis`: (Hz)\n",
    "\n",
    "`data.frequency_axis_ppm`: (ppm)\n",
    "\n",
    "For some datasets, it might be useful to collapse any singleton dimensions:"
   ]
  },
  {
   "cell_type": "code",
   "execution_count": null,
   "metadata": {
    "collapsed": false
   },
   "outputs": [],
   "source": [
    "fid = np.squeeze(data) # Time-domain signal\n",
    "spectrum = np.squeeze(data.spectrum()) # Frequency-domain signal"
   ]
  },
  {
   "cell_type": "markdown",
   "metadata": {},
   "source": [
    "`fid` and `spectrum` are complex `numpy` arrays with 1024 data points."
   ]
  },
  {
   "cell_type": "markdown",
   "metadata": {},
   "source": [
    "## Plotting 1D MR Spectra\n",
    "\n",
    "To start, plot the magnitude of the frequency-domain signal (spectrum) using the `plot` function in the `plot_1D_signals` module, with the default plotting parameters for a spectral representation of the data."
   ]
  },
  {
   "cell_type": "code",
   "execution_count": null,
   "metadata": {
    "collapsed": false
   },
   "outputs": [],
   "source": [
    "# First, get the x-axis data, which in this case will be ppms\n",
    "ppm_axis = data.frequency_axis_ppm()\n",
    "\n",
    "fig_handle, current_axis, line_handles = plot_sigs.plot(ppm_axis,np.abs(spectrum), plot_type='spectrum')"
   ]
  },
  {
   "cell_type": "markdown",
   "metadata": {},
   "source": [
    "The `plot` function generates a new figure, adds an axis to it, and returns the handles of the figure, current axis, and any lines that were added to the axis."
   ]
  },
  {
   "cell_type": "markdown",
   "metadata": {},
   "source": [
    "### Modifying the figure parameters\n",
    "The figure we generated utilized the default styling parameters for MR spectra. These can be accessed and changed in a variety of ways.\n",
    "\n",
    "The default parameters are easy to find and change in the code. They can be accessed here:"
   ]
  },
  {
   "cell_type": "code",
   "execution_count": null,
   "metadata": {
    "collapsed": false
   },
   "outputs": [],
   "source": [
    "plot_sigs.get_default_plot_params();"
   ]
  },
  {
   "cell_type": "markdown",
   "metadata": {},
   "source": [
    "Some additional default parameters have been defined for frequency and time-somain representations of the data. These can be accessed by specifying the `plot_type` when calling `get_default_plot_parameters`. The options are:\n",
    "\n",
    "`spectrum`: Frequency domain data, best for <= 5 signals plotted on the same axis\n",
    "\n",
    "`spectra`: Frequency domain data, best for > 5 signals plotted on the same axis\n",
    "\n",
    "`fid`: Time domain data, best for <= 5 signals plotted on the same axis\n",
    "\n",
    "`fids`: Time domain data, best for > 5 signals plotted on the same axis\n"
   ]
  },
  {
   "cell_type": "code",
   "execution_count": null,
   "metadata": {
    "collapsed": false
   },
   "outputs": [],
   "source": [
    "# Get the default parameters for spectrum plots\n",
    "spectrum_defaults = plot_sigs.get_default_plot_params(plot_type='spectrum');"
   ]
  },
  {
   "cell_type": "markdown",
   "metadata": {},
   "source": [
    "To change any of these parameters, pass in a dictionary of `key:value` pairs defining the parameters you want to change. The default values will be used unless otherwise specified.\n",
    "\n",
    "Let's change some things on the original plot to make it look a bit nicer."
   ]
  },
  {
   "cell_type": "code",
   "execution_count": null,
   "metadata": {
    "collapsed": false
   },
   "outputs": [],
   "source": [
    "# Create a dictionary of key:value pairs containing the changes we want to make to the figure\n",
    "new_params = {'xlim':[0,4],'title':'Sample MR Spectrum','xlabel':'ppm','ylabel':'abs'}\n",
    "\n",
    "# Create a new plot, with updated figure parameters\n",
    "fh, ax, lh = plot_sigs.plot(ppm_axis,np.abs(spectrum),plot_type='spectrum',\n",
    "                            plot_params = new_params);"
   ]
  },
  {
   "cell_type": "markdown",
   "metadata": {},
   "source": [
    "#### Autoscaling the y-axis\n",
    "\n",
    "Note that even though we've changed the x-axis boundaries, the y-axis data has been re-scaled automatically to accommodate the data. This is not a built-in matplotlib capability. The function `autoscale_y` in the `plot_1D_signals` module does this.\n",
    "\n",
    "This function can also be applied to axes that have been modified after the fact. For example, let's change the x-limits of the plot we just generated:"
   ]
  },
  {
   "cell_type": "code",
   "execution_count": null,
   "metadata": {
    "collapsed": false
   },
   "outputs": [],
   "source": [
    "fh, ax, lh = plot_sigs.plot(ppm_axis,np.abs(spectrum),plot_type='spectrum',\n",
    "                            plot_params = new_params);\n",
    "\n",
    "# Change the x-limits of the axis generated by the plot function\n",
    "ax.set_xlim([1.5,1.0]);"
   ]
  },
  {
   "cell_type": "markdown",
   "metadata": {},
   "source": [
    "This looks kind of terrible. Use `plot_sigs.autoscale_y` to fix it:"
   ]
  },
  {
   "cell_type": "code",
   "execution_count": null,
   "metadata": {
    "collapsed": false
   },
   "outputs": [],
   "source": [
    "fh, ax, lh = plot_sigs.plot(ppm_axis,np.abs(spectrum),plot_type='spectrum',\n",
    "                            plot_params = new_params);\n",
    "\n",
    "# Change the x-limits of the axis generate by the plot function\n",
    "ax.set_xlim([1.5,1.0]);\n",
    "\n",
    "# Autoscale y-axis to better show the range of the data\n",
    "plot_sigs.autoscale_y(ax);"
   ]
  },
  {
   "cell_type": "markdown",
   "metadata": {},
   "source": [
    "Much better!\n",
    "\n",
    "Note that autoscaling of the y-axis is done by default, but you can always turn it off by setting `plot_params['autoscale_y'] = False`."
   ]
  },
  {
   "cell_type": "markdown",
   "metadata": {},
   "source": [
    "### Multi-line plots\n",
    "\n",
    "There are several ways that multiple lines can be added to the same plot. If the data to be plotted on the y-axis has more than one column (or row), each column (or row) of data will be plotted as a separate line. For example, say we want to plot the real and imaginary components of the spectrum from the previous example on the same axis:"
   ]
  },
  {
   "cell_type": "code",
   "execution_count": null,
   "metadata": {
    "collapsed": false
   },
   "outputs": [],
   "source": [
    "#Create an array of data with size [2 x 1024] by concatenating the Re and Im components of the signal\n",
    "complex_signal = np.vstack((np.real(spectrum),np.imag(spectrum)))\n",
    "\n",
    "new_params = {'xlim':[0,4],'title':'Sample MR Spectrum','xlabel':'ppm','ylabel':'Re and Im'}\n",
    "\n",
    "# Add both lines to the same axis\n",
    "fh, ax, lh = plot_sigs.plot(ppm_axis,complex_signal,plot_type='spectrum',\n",
    "                            plot_params = new_params)"
   ]
  },
  {
   "cell_type": "markdown",
   "metadata": {},
   "source": [
    "The color order of the lines that are sequentially added to the axis is defined in the default parameters, and can be changed.\n",
    "\n",
    "Additional lines can be added to the plot after it has been generated as well."
   ]
  },
  {
   "cell_type": "code",
   "execution_count": null,
   "metadata": {
    "collapsed": false
   },
   "outputs": [],
   "source": [
    "#Plot the first line\n",
    "fh, ax, lh = plot_sigs.plot(ppm_axis,np.real(spectrum),plot_type='spectrum',\n",
    "                            plot_params = new_params);\n",
    "\n",
    "ax.hold('on') \n",
    "\n",
    "#Add the second line to the same axis, using the ax handle returned by the plot function\n",
    "ax.plot(ppm_axis,np.imag(spectrum),linewidth=2);"
   ]
  },
  {
   "cell_type": "markdown",
   "metadata": {},
   "source": [
    "Oops, we didn't rescale the y-axis to accomodate the new line!"
   ]
  },
  {
   "cell_type": "code",
   "execution_count": null,
   "metadata": {
    "collapsed": false
   },
   "outputs": [],
   "source": [
    "fh, ax, lh = plot_sigs.plot(ppm_axis,np.real(spectrum),plot_type='spectrum',\n",
    "                            plot_params = new_params);\n",
    "\n",
    "ax.hold('on') \n",
    "ax.plot(ppm_axis,np.imag(spectrum),linewidth=2); \n",
    "\n",
    "# Apply y-axis autoscaling to accomodate the new line\n",
    "plot_sigs.autoscale_y(ax);"
   ]
  },
  {
   "cell_type": "markdown",
   "metadata": {},
   "source": [
    "Looking good."
   ]
  },
  {
   "cell_type": "markdown",
   "metadata": {},
   "source": [
    "#### Adding a legend to the figure\n",
    "One of the variables returned by the plot function contains the handles of all the lines plotted in the axis. This makes it very easy to add a legend to the figure after it has been generated."
   ]
  },
  {
   "cell_type": "code",
   "execution_count": null,
   "metadata": {
    "collapsed": false
   },
   "outputs": [],
   "source": [
    "fig_handle, current_axis, line_handles = plot_sigs.plot(ppm_axis,complex_signal,\n",
    "                                                        plot_type='spectrum',plot_params = new_params)\n",
    "\n",
    "# Add the legend to the current axis\n",
    "leg_handle = plt.legend(line_handles,['Real','Imaginary']);"
   ]
  },
  {
   "cell_type": "markdown",
   "metadata": {},
   "source": [
    "### Creating subplots\n",
    "\n",
    "The `plot_1D_signals` module has an optional input parameter `ax`, which specifies the axis to use for plotting the data.  If not specified, it will automatically create a new figure, add an axis to it, and plot the data in that axis.\n",
    "\n",
    "The ability to specify the axis for plotting makes it easy to create a grid of subplots containing different views of the data with the same styling. \n",
    "\n",
    "Say you want to create a `[2 x 1]` set of subplots, with the real component of the data plotted in the first axis, and the imaginary component plotted in the second.  Here's how you might do it using the `plot_1D_signals` module:"
   ]
  },
  {
   "cell_type": "code",
   "execution_count": null,
   "metadata": {
    "collapsed": false
   },
   "outputs": [],
   "source": [
    "# Open up a new figure empty, with 2 rows and 1 column of subplots\n",
    "new_fig,(ax1,ax2) = plt.subplots(2,1) \n",
    "\n",
    "# Specify some parameters to apply to the first axis\n",
    "new_params = {'xlim':[0,4],'title':'Real','xlabel':'ppm','ylabel':''}\n",
    "\n",
    "# Plot the Re signal on axis 1 by passing the handle, ax1, to the plot function\n",
    "plot_sigs.plot(ppm_axis,np.real(spectrum),plot_type='spectrum',\n",
    "               plot_params = new_params, ax=ax1);\n",
    "\n",
    "# Plot the Im signal on axis 2\n",
    "\n",
    "# Specify some parameters to apply to the second axis\n",
    "new_params = {'xlim':[0,4],'title':'Imag','xlabel':'ppm','ylabel':'','line_color':'#d55e00'}\n",
    "\n",
    "plot_sigs.plot(ppm_axis,np.imag(spectrum),plot_type='spectrum',\n",
    "               plot_params = new_params, ax=ax2);\n",
    "\n",
    "# Make the layout look a bit nicer\n",
    "plt.tight_layout()"
   ]
  },
  {
   "cell_type": "markdown",
   "metadata": {},
   "source": [
    "## Plotting raw MRS data\n",
    "\n",
    "A good way to get a sense of the quality of the data is to plot the raw averages collected from each coil. This is the data before averaging and coil combination turn it into the kind of 1D signal we've been working with so far. It's a very interesting view of the data as it will allow us to easily detect any signal drift that may have occurred across the averages, and identify motion-induced artifacts, which are signal quality issues that can become obscured by the averaging + coil-combination process. However, for datasets with a large number of averages (e.g. 128) it can be a lot of data to (elegantly) plot on the same axis. The `plot_1D_signals` module provides functionality for easily generating and formatting these kinds of plots.\n",
    "\n",
    "First, let's load some sample data. For this example, we will use a file in the TWIX format that contains the individual averages collected from a 32-channel head coil."
   ]
  },
  {
   "cell_type": "code",
   "execution_count": null,
   "metadata": {
    "collapsed": false
   },
   "outputs": [],
   "source": [
    "raw_data = suspect.io.twix.load_twix('twix_vb.dat')"
   ]
  },
  {
   "cell_type": "markdown",
   "metadata": {},
   "source": [
    "`raw_data` is an instance of the `MRSData` class. The data it contains is structured as `[averages x coils x datapoints]` and its shape is `[128,32,2048]`.\n",
    "\n",
    "#### Choosing a coil\n",
    "\n",
    "For this example, we're going to plot all the averages (128) collected from a single coil. However, since the SNR of the signals detected by each coil varies greatly depending on where the coil is located relative to the signal source, some coils can have such low SNR that the informative features of the data won't even be visible.\n",
    "\n",
    "The `plot_signal` module has a function, `suggest_channel`, that can...suggest the best coil to use for creating this view of the data."
   ]
  },
  {
   "cell_type": "code",
   "execution_count": null,
   "metadata": {
    "collapsed": false
   },
   "outputs": [],
   "source": [
    "# Find a good channel for plotting the raw data \n",
    "coil_idx, coil_max = plot_sigs.suggest_channel(raw_data);\n",
    "print('Use coil ' + str(coil_idx+1) + '!') # Inex of the coil with the highest SNR"
   ]
  },
  {
   "cell_type": "markdown",
   "metadata": {},
   "source": [
    "The function simply finds the coil with maximum maximum average value across all the averages. It's an easy (dumb) way of identifying the coil with the highest SNR. \n",
    "\n",
    "For this dataset, coil 9 (index 8) is probably a good one to use for plotting. Let's get the slice of the raw data from this coil:"
   ]
  },
  {
   "cell_type": "code",
   "execution_count": null,
   "metadata": {
    "collapsed": false
   },
   "outputs": [],
   "source": [
    "coil_data_spectra = raw_data.spectrum()[:,coil_idx,:]"
   ]
  },
  {
   "cell_type": "markdown",
   "metadata": {},
   "source": [
    "Plot the data using default parameters, like we've done before, but this time use `plot_type = spectra` instead."
   ]
  },
  {
   "cell_type": "code",
   "execution_count": null,
   "metadata": {
    "collapsed": false,
    "scrolled": true
   },
   "outputs": [],
   "source": [
    "# Get the ppm axis for this dataset\n",
    "ppm_axis = raw_data.frequency_axis_ppm()\n",
    "\n",
    "fh, ax, lh = plot_sigs.plot(ppm_axis,np.abs(coil_data_spectra),plot_type='spectra');"
   ]
  },
  {
   "cell_type": "markdown",
   "metadata": {},
   "source": [
    "Using `plot_type = spectra` instead of `spectrum` changes a couple of the default settings, including automatically overlaying the average of the signals (plotted in gray, although kind of hard to see in this view). Like all the other parameters, these can be changed as well.\n",
    "\n",
    "Let's style this plot a bit, and zoom into the region around the residual H2O peak, which is a good place to look for evidence of signal drift and motion artifacts."
   ]
  },
  {
   "cell_type": "code",
   "execution_count": null,
   "metadata": {
    "collapsed": false
   },
   "outputs": [],
   "source": [
    "new_params = {'xlim':[raw_data.ppm0-0.3, raw_data.ppm0+0.2], 'xlabel':'ppm', \n",
    "              'title':'128 averages, coil ' + str(coil_idx+1),'ylabel':'abs'}\n",
    "\n",
    "plot_sigs.plot(ppm_axis,np.abs(coil_data_spectra),plot_type='spectra',\n",
    "               plot_params = new_params);"
   ]
  },
  {
   "cell_type": "markdown",
   "metadata": {},
   "source": [
    "With this view of the data, we can see that there is definitely some signal drift happening across the averages. It looks like the residual H2O peak starts out at 4.7 ppm and drifts about 0.11 ppm over the course of 128 averages. \n",
    "\n",
    "Let's see what this data looks like in the time-domain:\n"
   ]
  },
  {
   "cell_type": "code",
   "execution_count": null,
   "metadata": {
    "collapsed": false
   },
   "outputs": [],
   "source": [
    "# Get the slice of the time-domain data from the selected coil\n",
    "coil_data_fid = raw_data[:,coil_idx,:] \n",
    "\n",
    "# Define some new parameters that are more appropriate for time-domain data\n",
    "new_params = {'xlim':[-0.005,0.25], 'xlabel':'sec', 'title':'128 averages, coil ' + str(coil_idx+1),\n",
    "              'ylabel':'Real'}\n",
    "\n",
    "# Call the plotting function using plot_type = 'fids'\n",
    "plot_sigs.plot(raw_data.time_axis(),np.real(coil_data_fid),plot_type='fids',plot_params = new_params);"
   ]
  },
  {
   "cell_type": "markdown",
   "metadata": {},
   "source": [
    "\n",
    "### Using a colormap to track the averages\n",
    "\n",
    "When multiple lines are added to the same axis, they are assigned a color based on the order in which they are added. If we want to trace the drift in the averages over time, we can instead use a colormap gradient to assign colors to the lines as they are added to the axis. You can select this option by setting the parameter `use_colormap = True`."
   ]
  },
  {
   "cell_type": "code",
   "execution_count": null,
   "metadata": {
    "collapsed": false
   },
   "outputs": [],
   "source": [
    "new_params = {'use_colormap':True,'overlay_average':False,'xlim':[raw_data.ppm0-0.3, raw_data.ppm0+0.2], \n",
    "              'xlabel':'ppm', 'title':'128 averages, coil ' + str(coil_idx+1),'ylabel':'abs'}\n",
    "\n",
    "plot_sigs.plot(ppm_axis,np.abs(coil_data_spectra),plot_type='spectra',plot_params = new_params);"
   ]
  },
  {
   "cell_type": "markdown",
   "metadata": {},
   "source": [
    "And in the time-domain:"
   ]
  },
  {
   "cell_type": "code",
   "execution_count": null,
   "metadata": {
    "collapsed": false
   },
   "outputs": [],
   "source": [
    "new_params = {'use_colormap':True,'overlay_average':False,'xlim':[-0.005,0.25], 'xlabel':'sec',\n",
    "              'title':'128 averages, coil ' + str(coil_idx+1),'ylabel':'Real','use_colormap':True}\n",
    "\n",
    "# Call the plotting function using plot_type = 'fids'\n",
    "plot_sigs.plot(raw_data.time_axis(),np.real(coil_data_fid),plot_type='fids',plot_params = new_params);"
   ]
  },
  {
   "cell_type": "markdown",
   "metadata": {},
   "source": [
    "This is Matplotlib's colormap `summer`, and it is the default colormap but any of the built-in colormaps can be used. For instance `viridis` looks pretty cool."
   ]
  },
  {
   "cell_type": "code",
   "execution_count": null,
   "metadata": {
    "collapsed": false
   },
   "outputs": [],
   "source": [
    "new_params = {'use_colormap':True,'colormap':'viridis','overlay_average':False,\n",
    "              'xlim':[raw_data.ppm0-0.3, raw_data.ppm0+0.2], 'xlabel':'ppm', 'title':'128 averages, coil ' + str(coil_idx+1),'ylabel':'abs'}\n",
    "\n",
    "plot_sigs.plot(ppm_axis,np.abs(coil_data_spectra),plot_type='spectra',plot_params = new_params);"
   ]
  },
  {
   "cell_type": "markdown",
   "metadata": {},
   "source": [
    "Look here for all the built-in colormaps:\n",
    "http://matplotlib.org/examples/color/colormaps_reference.html"
   ]
  },
  {
   "cell_type": "markdown",
   "metadata": {},
   "source": [
    "## Using `plot_1D_signals` for batch processing\n",
    "\n",
    "The `plot_1D_signals` module has some additional functionality that makes it easy to do batch processing. Say you have several files you want to process, and you'd like to generate plots of the raw data and at various stages of the processing pipeline. Instead of generating a new figure window every time, there are a few options in the `plot_1D_signals` module that allow you to completely suppress rendering of the figure, automatically save it wherever you want, and automatically close it.\n",
    "\n",
    "These options work best when you use one of matplotlib's non-inline backends. For this example, we'll use a `qt` backend. "
   ]
  },
  {
   "cell_type": "code",
   "execution_count": null,
   "metadata": {
    "collapsed": false
   },
   "outputs": [],
   "source": [
    "%matplotlib qt"
   ]
  },
  {
   "cell_type": "markdown",
   "metadata": {},
   "source": [
    "Using the `qt` backend ainstead of `inline` will plot new figures in a separate window, instead of inside the `ipython` console.\n",
    "\n",
    "Here is an example of how you might use the `plot_1D_signals` module to generate a new plot, suppress its rendering, save it, and automatically close it.\n"
   ]
  },
  {
   "cell_type": "code",
   "execution_count": null,
   "metadata": {
    "collapsed": true
   },
   "outputs": [],
   "source": [
    "# Define some new parameters\n",
    "new_params = {'suppress_fig':True,'autoclose':True,'save_fig':True,'output_fig_path':'test_fig.png',\n",
    "             'use_colormap':True,'colormap':'viridis','xlim':[0,4], 'xlabel':'ppm', 'title':'128 averages, coil ' + str(coil_idx+1),'ylabel':'abs'}\n",
    "\n",
    "plot_sigs.plot(ppm_axis,np.abs(coil_data_spectra),plot_type='spectra',\n",
    "               plot_params = new_params);"
   ]
  },
  {
   "cell_type": "markdown",
   "metadata": {},
   "source": [
    "There should now be a `png` image file containing the plot we just created, wherever `output_fig_path` said to put it. Note that `output_fig_path` should contain the full path to the location where you'd like the file saved, as well as the file name."
   ]
  },
  {
   "cell_type": "code",
   "execution_count": null,
   "metadata": {
    "collapsed": true
   },
   "outputs": [],
   "source": []
  }
 ],
 "metadata": {
  "kernelspec": {
   "display_name": "Python 3",
   "language": "python",
   "name": "python3"
  },
  "language_info": {
   "codemirror_mode": {
    "name": "ipython",
    "version": 3
   },
   "file_extension": ".py",
   "mimetype": "text/x-python",
   "name": "python",
   "nbconvert_exporter": "python",
   "pygments_lexer": "ipython3",
   "version": "3.5.2"
  }
 },
 "nbformat": 4,
 "nbformat_minor": 0
}
